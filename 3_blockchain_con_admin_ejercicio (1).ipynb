{
  "nbformat": 4,
  "nbformat_minor": 0,
  "metadata": {
    "colab": {
      "provenance": []
    },
    "kernelspec": {
      "name": "python3",
      "display_name": "Python 3"
    },
    "language_info": {
      "name": "python"
    }
  },
  "cells": [
    {
      "cell_type": "markdown",
      "source": [
        "# Blockchain\n",
        "\n",
        "La blockchain o cadena de bloques es una serie de documentos en donde cada uno esta relacionado con el anterior mediante su hash. Esto es, el segundo bloque tendra el hash del primero, el tercero tendra el hash del segundo y asi sucesivamente.\n"
      ],
      "metadata": {
        "id": "G3i37-x7U9Sw"
      }
    },
    {
      "cell_type": "markdown",
      "source": [
        "# Ejercicio:\n",
        "\n",
        "Publicar tres bloques cada uno en un archivo diferente. Cada bloque del archivo comenzara con Bloque N y finalizara cuando finalice el archivo y contendra sus respectivas transacciones escritas en texto plano y firmadas por cada participante como indica el ejemplo. Finalmente cada bloque debe ser firmado por el administrador que garantiza que es valido.\n",
        "\n",
        "Publicarlos en github u otro medio para que todos los participantes puedan ver los bloques y descargarlos.\n",
        "\n",
        "Ejemplo de bloques:\n",
        "\n",
        "```\n",
        "Bloque 0:\n",
        "(hash = 000000000000000)\n",
        "Se crean 10 monedas para Alicia\n",
        "(firma Admin)\n",
        "----------\n",
        "Bloque 1:\n",
        "(hash Bloque 0)\n",
        "Alicia le envia 3 monedas a Bob (firma Alicia)\n",
        "(firma Admin)\n",
        "----------\n",
        "Bloque 2:\n",
        "(hash Bloque 1)\n",
        "Alicia le envia 4 monedas a Carolina (firma Alicia)\n",
        "Bob le envia 2 monedas a Carolina (firma Bob)\n",
        "(firma Admin)\n",
        "----------\n",
        "```\n"
      ],
      "metadata": {
        "id": "2EKbbGsxPK0f"
      }
    },
    {
      "cell_type": "code",
      "source": [
        "!pip install bitcoinlib"
      ],
      "metadata": {
        "colab": {
          "base_uri": "https://localhost:8080/"
        },
        "id": "FsL0Wez67Ay1",
        "outputId": "11528d26-0212-470b-ff3f-af1c12a52b4a"
      },
      "execution_count": 2,
      "outputs": [
        {
          "output_type": "stream",
          "name": "stdout",
          "text": [
            "Collecting bitcoinlib\n",
            "  Downloading bitcoinlib-0.7.1-py3-none-any.whl.metadata (8.1 kB)\n",
            "Requirement already satisfied: requests>=2.25.0 in /usr/local/lib/python3.10/dist-packages (from bitcoinlib) (2.32.3)\n",
            "Collecting fastecdsa>=2.3.0 (from bitcoinlib)\n",
            "  Downloading fastecdsa-3.0.0-cp310-cp310-manylinux_2_17_x86_64.manylinux2014_x86_64.whl.metadata (19 kB)\n",
            "Collecting pycryptodome>=3.19.0 (from bitcoinlib)\n",
            "  Downloading pycryptodome-3.21.0-cp36-abi3-manylinux_2_17_x86_64.manylinux2014_x86_64.whl.metadata (3.4 kB)\n",
            "Requirement already satisfied: SQLAlchemy>=2.0.20 in /usr/local/lib/python3.10/dist-packages (from bitcoinlib) (2.0.36)\n",
            "Requirement already satisfied: numpy>=1.22.0 in /usr/local/lib/python3.10/dist-packages (from bitcoinlib) (1.26.4)\n",
            "Requirement already satisfied: charset-normalizer<4,>=2 in /usr/local/lib/python3.10/dist-packages (from requests>=2.25.0->bitcoinlib) (3.4.1)\n",
            "Requirement already satisfied: idna<4,>=2.5 in /usr/local/lib/python3.10/dist-packages (from requests>=2.25.0->bitcoinlib) (3.10)\n",
            "Requirement already satisfied: urllib3<3,>=1.21.1 in /usr/local/lib/python3.10/dist-packages (from requests>=2.25.0->bitcoinlib) (2.3.0)\n",
            "Requirement already satisfied: certifi>=2017.4.17 in /usr/local/lib/python3.10/dist-packages (from requests>=2.25.0->bitcoinlib) (2024.12.14)\n",
            "Requirement already satisfied: typing-extensions>=4.6.0 in /usr/local/lib/python3.10/dist-packages (from SQLAlchemy>=2.0.20->bitcoinlib) (4.12.2)\n",
            "Requirement already satisfied: greenlet!=0.4.17 in /usr/local/lib/python3.10/dist-packages (from SQLAlchemy>=2.0.20->bitcoinlib) (3.1.1)\n",
            "Downloading bitcoinlib-0.7.1-py3-none-any.whl (4.3 MB)\n",
            "\u001b[2K   \u001b[90m━━━━━━━━━━━━━━━━━━━━━━━━━━━━━━━━━━━━━━━━\u001b[0m \u001b[32m4.3/4.3 MB\u001b[0m \u001b[31m39.0 MB/s\u001b[0m eta \u001b[36m0:00:00\u001b[0m\n",
            "\u001b[?25hDownloading fastecdsa-3.0.0-cp310-cp310-manylinux_2_17_x86_64.manylinux2014_x86_64.whl (329 kB)\n",
            "\u001b[2K   \u001b[90m━━━━━━━━━━━━━━━━━━━━━━━━━━━━━━━━━━━━━━━━\u001b[0m \u001b[32m329.3/329.3 kB\u001b[0m \u001b[31m22.7 MB/s\u001b[0m eta \u001b[36m0:00:00\u001b[0m\n",
            "\u001b[?25hDownloading pycryptodome-3.21.0-cp36-abi3-manylinux_2_17_x86_64.manylinux2014_x86_64.whl (2.3 MB)\n",
            "\u001b[2K   \u001b[90m━━━━━━━━━━━━━━━━━━━━━━━━━━━━━━━━━━━━━━━━\u001b[0m \u001b[32m2.3/2.3 MB\u001b[0m \u001b[31m76.4 MB/s\u001b[0m eta \u001b[36m0:00:00\u001b[0m\n",
            "\u001b[?25hInstalling collected packages: pycryptodome, fastecdsa, bitcoinlib\n",
            "Successfully installed bitcoinlib-0.7.1 fastecdsa-3.0.0 pycryptodome-3.21.0\n"
          ]
        }
      ]
    },
    {
      "cell_type": "code",
      "source": [
        "import hashlib\n",
        "from bitcoinlib.keys import Key, sign, verify\n",
        "\n",
        "# Función para generar claves de un participante\n",
        "def generar_claves():\n",
        "    key_pair = Key()\n",
        "    private_key = key_pair.secret\n",
        "    public_key = key_pair.public()\n",
        "    return private_key, public_key\n",
        "\n",
        "# Función para crear el hash de un mensaje\n",
        "def hash_mensaje(mensaje):\n",
        "    return hashlib.sha256(mensaje.encode()).hexdigest()\n",
        "\n",
        "# Función para firmar un mensaje (transacción o bloque)\n",
        "def firmar_mensaje(mensaje, private_key):\n",
        "    return sign(mensaje.encode(), private_key)\n",
        "\n",
        "# Función para verificar la firma\n",
        "def verificar_firma(mensaje, firma, public_key):\n",
        "    return verify(mensaje.encode(), firma, public_key)\n",
        "\n",
        "# Función para crear un bloque\n",
        "def crear_bloque(n, transacciones, hash_anterior):\n",
        "    bloque = f\"Bloque {n}:\\n\"\n",
        "    bloque += f\"Hash Anterior: {hash_anterior}\\n\"\n",
        "    for transaccion in transacciones:\n",
        "        bloque += f\"{transaccion}\\n\"\n",
        "    return bloque\n",
        "\n",
        "# Función para guardar el bloque en un archivo\n",
        "def guardar_bloque(bloque, nombre_archivo):\n",
        "    with open(nombre_archivo, 'w') as f:\n",
        "        f.write(bloque)\n",
        "\n",
        "# Función principal para crear y firmar bloques\n",
        "def crear_y_publicar_bloques():\n",
        "    # Administrador firma\n",
        "    admin_private_key, admin_public_key = generar_claves()\n",
        "\n",
        "    # Bloque 0: Crear monedas para Alicia\n",
        "    jorge_private_key, jorge_public_key = generar_claves()\n",
        "    transacciones_bloque_0 = [\n",
        "        \"Se crean 10 monedas para Jorge\",\n",
        "        f\"(firma Admin: {firmar_mensaje('Se crean 10 monedas para Jorge', admin_private_key)})\"\n",
        "    ]\n",
        "    hash_bloque_0 = hash_mensaje(''.join(transacciones_bloque_0))\n",
        "    bloque_0 = crear_bloque(0, transacciones_bloque_0, \"000000000000000\")\n",
        "    bloque_0_firmado = f\"{bloque_0}\\n(firma Jorge: {firmar_mensaje(bloque_0, admin_private_key)})\"\n",
        "    guardar_bloque(bloque_0_firmado, \"bloque_0.txt\")\n",
        "    print(\"Bloque 0 publicado en bloque_0.txt\")\n",
        "\n",
        "    # Bloque 1: Jorge le envia 3 monedas a Marco\n",
        "    marco_private_key, marco_public_key = generar_claves()\n",
        "    transacciones_bloque_1 = [\n",
        "        f\"Jorge le envia 3 monedas a Marco (firma Marco: {firmar_mensaje('Jorge le envia 3 monedas a Marco', jorge_private_key)})\",\n",
        "        f\"(firma Admin: {firmar_mensaje('Jorge le envia 3 monedas a Marco', admin_private_key)})\"\n",
        "    ]\n",
        "    hash_bloque_1 = hash_mensaje(''.join(transacciones_bloque_1))\n",
        "    bloque_1 = crear_bloque(1, transacciones_bloque_1, hash_bloque_0)\n",
        "    bloque_1_firmado = f\"{bloque_1}\\n(firma Marco: {firmar_mensaje(bloque_1, admin_private_key)})\"\n",
        "    guardar_bloque(bloque_1_firmado, \"bloque_1.txt\")\n",
        "    print(\"Bloque 1 publicado en bloque_1.txt\")\n",
        "\n",
        "    # Bloque 2: Jorge le envia 4 monedas a Alberto, Marco le envia 2 monedas a Alberto\n",
        "    alberto_private_key, alberto_public_key = generar_claves()\n",
        "    transacciones_bloque_2 = [\n",
        "        f\"Jorge le envia 4 monedas a Alberto (firma Jorge: {firmar_mensaje('Jorge le envia 4 monedas a Alberto', jorge_private_key)})\",\n",
        "        f\"Marco le envia 2 monedas a Alberto (firma Marco: {firmar_mensaje('Marco le envia 2 monedas a Alberto', marco_private_key)})\",\n",
        "        f\"(firma Admin: {firmar_mensaje('Jorge le envia 4 monedas a Alberto y Marco le envia 2 monedas a Alberto', admin_private_key)})\"\n",
        "    ]\n",
        "    hash_bloque_2 = hash_mensaje(''.join(transacciones_bloque_2))\n",
        "    bloque_2 = crear_bloque(2, transacciones_bloque_2, hash_bloque_1)\n",
        "    bloque_2_firmado = f\"{bloque_2}\\n(firma Admin: {firmar_mensaje(bloque_2, admin_private_key)})\"\n",
        "    guardar_bloque(bloque_2_firmado, \"bloque_2.txt\")\n",
        "    print(\"Bloque 2 publicado en bloque_2.txt\")\n",
        "\n",
        "# Ejecutar el proceso de crear y publicar bloques\n",
        "crear_y_publicar_bloques()"
      ],
      "metadata": {
        "id": "tIksw8h1U7sL",
        "colab": {
          "base_uri": "https://localhost:8080/"
        },
        "outputId": "ccb1859b-fc5c-4a3a-e8eb-a260b8d7a5cd"
      },
      "execution_count": 5,
      "outputs": [
        {
          "output_type": "stream",
          "name": "stdout",
          "text": [
            "Bloque 0 publicado en bloque_0.txt\n",
            "Bloque 1 publicado en bloque_1.txt\n",
            "Bloque 2 publicado en bloque_2.txt\n"
          ]
        }
      ]
    }
  ]
}